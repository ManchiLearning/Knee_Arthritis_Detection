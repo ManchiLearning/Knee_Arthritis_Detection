{
 "cells": [
  {
   "cell_type": "code",
   "execution_count": 43,
   "metadata": {},
   "outputs": [],
   "source": [
    "from utils import load_dataset\n",
    "import tensorflow as tf\n",
    "import numpy as np\n",
    "import matplotlib.pyplot as plt\n",
    "import os\n",
    "from skimage.io import imsave"
   ]
  },
  {
   "cell_type": "code",
   "execution_count": 2,
   "metadata": {},
   "outputs": [
    {
     "name": "stdout",
     "output_type": "stream",
     "text": [
      "Loading data\\raw\\images\\doubtful\n"
     ]
    },
    {
     "name": "stderr",
     "output_type": "stream",
     "text": [
      "  0%|          | 0/477 [00:00<?, ?it/s]"
     ]
    },
    {
     "name": "stderr",
     "output_type": "stream",
     "text": [
      "100%|██████████| 477/477 [00:01<00:00, 302.93it/s]\n"
     ]
    },
    {
     "name": "stdout",
     "output_type": "stream",
     "text": [
      "Loading data\\raw\\images\\mild\n"
     ]
    },
    {
     "name": "stderr",
     "output_type": "stream",
     "text": [
      "100%|██████████| 232/232 [00:00<00:00, 295.21it/s]\n"
     ]
    },
    {
     "name": "stdout",
     "output_type": "stream",
     "text": [
      "Loading data\\raw\\images\\moderate\n"
     ]
    },
    {
     "name": "stderr",
     "output_type": "stream",
     "text": [
      "100%|██████████| 221/221 [00:00<00:00, 286.20it/s]\n"
     ]
    },
    {
     "name": "stdout",
     "output_type": "stream",
     "text": [
      "Loading data\\raw\\images\\normal\n"
     ]
    },
    {
     "name": "stderr",
     "output_type": "stream",
     "text": [
      "100%|██████████| 514/514 [00:01<00:00, 306.54it/s]\n"
     ]
    },
    {
     "name": "stdout",
     "output_type": "stream",
     "text": [
      "Loading data\\raw\\images\\severe\n"
     ]
    },
    {
     "name": "stderr",
     "output_type": "stream",
     "text": [
      "100%|██████████| 206/206 [00:00<00:00, 309.73it/s]\n"
     ]
    }
   ],
   "source": [
    "dataset, labels, names = load_dataset()"
   ]
  },
  {
   "cell_type": "code",
   "execution_count": 3,
   "metadata": {},
   "outputs": [],
   "source": [
    "n_labels, counts = np.unique(labels,return_counts=True)"
   ]
  },
  {
   "cell_type": "code",
   "execution_count": 4,
   "metadata": {},
   "outputs": [],
   "source": [
    "max_elements = np.max(counts) + 100"
   ]
  },
  {
   "cell_type": "code",
   "execution_count": 9,
   "metadata": {},
   "outputs": [
    {
     "data": {
      "text/plain": [
       "'doubtful'"
      ]
     },
     "execution_count": 9,
     "metadata": {},
     "output_type": "execute_result"
    }
   ],
   "source": [
    "\n",
    "classes = np.unique(names)"
   ]
  },
  {
   "cell_type": "code",
   "execution_count": 56,
   "metadata": {},
   "outputs": [],
   "source": [
    "if not os.path.exists(os.path.join(\"data\",\"augmented\")):\n",
    "        os.mkdir(os.path.join(\"data\",\"augmented\"))\n",
    "        os.mkdir(os.path.join(\"data\",\"augmented\",\"images\"))\n",
    "\n",
    "for i in range(5):\n",
    "    \n",
    "    indx = np.where(labels==i)\n",
    "    class_images = dataset[indx]\n",
    "    generator = tf.keras.preprocessing.image.ImageDataGenerator()\n",
    "    new_imgs = []\n",
    "    while len(class_images) + len(new_imgs) < max_elements:\n",
    "        random_img = class_images[np.random.randint(0,len(class_images))]\n",
    "        new_random_img = random_img.reshape((random_img.shape[0],random_img.shape[1],1))\n",
    "        new_img = generator.random_transform(new_random_img,seed=42)\n",
    "        new_imgs.append(new_img)\n",
    "    \n",
    "    if not os.path.exists(os.path.join(\"data\",\"augmented\",\"images\",classes[i])):\n",
    "         os.mkdir(os.path.join(\"data\",\"augmented\",\"images\",classes[i]))\n",
    "\n",
    "    for k in range(len(new_imgs)):\n",
    "        aug_img = np.zeros((new_imgs[k].shape[0],new_imgs[k].shape[1],3))\n",
    "        \n",
    "        for j in range(3):\n",
    "             aug_img[:,:,j] = new_imgs[k][:,:,0]*255\n",
    "        \n",
    "        imsave(os.path.join(\"data\",\"augmented\",\"images\",classes[i],f\"{classes[i]}_augmented_{k}.png\"),aug_img.astype(\"uint8\"),format=\"png\")\n",
    "\n",
    "\n",
    "\n",
    "    \n",
    "    "
   ]
  },
  {
   "cell_type": "code",
   "execution_count": null,
   "metadata": {},
   "outputs": [],
   "source": []
  }
 ],
 "metadata": {
  "kernelspec": {
   "display_name": "venv",
   "language": "python",
   "name": "python3"
  },
  "language_info": {
   "codemirror_mode": {
    "name": "ipython",
    "version": 3
   },
   "file_extension": ".py",
   "mimetype": "text/x-python",
   "name": "python",
   "nbconvert_exporter": "python",
   "pygments_lexer": "ipython3",
   "version": "3.11.9"
  }
 },
 "nbformat": 4,
 "nbformat_minor": 2
}
